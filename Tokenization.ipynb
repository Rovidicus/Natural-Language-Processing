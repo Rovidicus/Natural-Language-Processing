{
 "cells": [
  {
   "cell_type": "code",
   "execution_count": 1,
   "id": "dc650427-d0ee-4e68-8505-2f542d566b8e",
   "metadata": {},
   "outputs": [
    {
     "data": {
      "text/plain": [
       "\"Hey there, Ninjas! I'm so excited to tell you about NLP. It's super-cool, isn't it? I've been #learning a lot. Follow @NLP for updates. E-mail me at fake_address@email.com\""
      ]
     },
     "execution_count": 1,
     "metadata": {},
     "output_type": "execute_result"
    }
   ],
   "source": [
    "# Define a sample text for exploration\n",
    "sample_text = \"Hey there, Ninjas! I'm so excited to tell you about NLP. It's super-cool, isn't it? I've been #learning a lot. Follow @NLP for updates. E-mail me at fake_address@email.com\"\n",
    "sample_text"
   ]
  },
  {
   "cell_type": "code",
   "execution_count": 2,
   "id": "17fc144d-df1a-49fc-a528-733c3b283d8b",
   "metadata": {},
   "outputs": [
    {
     "data": {
      "text/plain": [
       "\"hey there, ninjas! i'm so excited to tell you about nlp. it's super-cool, isn't it? i've been #learning a lot. follow @nlp for updates. e-mail me at fake_address@email.com\""
      ]
     },
     "execution_count": 2,
     "metadata": {},
     "output_type": "execute_result"
    }
   ],
   "source": [
    "# Inspect lowercase text\n",
    "sample_text.lower()"
   ]
  },
  {
   "cell_type": "code",
   "execution_count": 3,
   "id": "0870a1b0-35ca-4451-be25-cc7e73974b83",
   "metadata": {},
   "outputs": [
    {
     "name": "stdout",
     "output_type": "stream",
     "text": [
      "Whitespace tokens: \n",
      " ['hey', 'there,', 'ninjas!', \"i'm\", 'so', 'excited', 'to', 'tell', 'you', 'about', 'nlp.', \"it's\", 'super-cool,', \"isn't\", 'it?', \"i've\", 'been', '#learning', 'a', 'lot.', 'follow', '@nlp', 'for', 'updates.', 'e-mail', 'me', 'at', 'fake_address@email.com']\n"
     ]
    }
   ],
   "source": [
    "# Whitespace Tokenization\n",
    "whitespace_tokens = sample_text.lower().split()\n",
    "# Print tokens\n",
    "print('Whitespace tokens: \\n',whitespace_tokens)"
   ]
  },
  {
   "cell_type": "code",
   "execution_count": 4,
   "id": "4a276225-fd89-4e4e-baa9-af898e9c43f0",
   "metadata": {},
   "outputs": [
    {
     "data": {
      "text/plain": [
       "['hey',\n",
       " 'there,',\n",
       " 'ninjas!',\n",
       " \"i'm\",\n",
       " 'so',\n",
       " 'excited',\n",
       " 'to',\n",
       " 'tell',\n",
       " 'you',\n",
       " 'about']"
      ]
     },
     "execution_count": 4,
     "metadata": {},
     "output_type": "execute_result"
    }
   ],
   "source": [
    "# To more easily see each token, display instead of print\n",
    "whitespace_tokens[:10]"
   ]
  },
  {
   "cell_type": "code",
   "execution_count": 5,
   "id": "e61bfed4-6bba-4dd5-ae72-13024130fb15",
   "metadata": {},
   "outputs": [
    {
     "ename": "LookupError",
     "evalue": "\n**********************************************************************\n  Resource \u001b[93mpunkt\u001b[0m not found.\n  Please use the NLTK Downloader to obtain the resource:\n\n  \u001b[31m>>> import nltk\n  >>> nltk.download('punkt')\n  \u001b[0m\n  For more information see: https://www.nltk.org/data.html\n\n  Attempted to load \u001b[93mtokenizers/punkt/english.pickle\u001b[0m\n\n  Searched in:\n    - 'C:\\\\Users\\\\Rovidicus/nltk_data'\n    - 'C:\\\\Users\\\\Rovidicus\\\\anaconda3\\\\envs\\\\dojo-env\\\\nltk_data'\n    - 'C:\\\\Users\\\\Rovidicus\\\\anaconda3\\\\envs\\\\dojo-env\\\\share\\\\nltk_data'\n    - 'C:\\\\Users\\\\Rovidicus\\\\anaconda3\\\\envs\\\\dojo-env\\\\lib\\\\nltk_data'\n    - 'C:\\\\Users\\\\Rovidicus\\\\AppData\\\\Roaming\\\\nltk_data'\n    - 'C:\\\\nltk_data'\n    - 'D:\\\\nltk_data'\n    - 'E:\\\\nltk_data'\n    - ''\n**********************************************************************\n",
     "output_type": "error",
     "traceback": [
      "\u001b[1;31m---------------------------------------------------------------------------\u001b[0m",
      "\u001b[1;31mLookupError\u001b[0m                               Traceback (most recent call last)",
      "Cell \u001b[1;32mIn[5], line 3\u001b[0m\n\u001b[0;32m      1\u001b[0m \u001b[38;5;28;01mfrom\u001b[39;00m \u001b[38;5;21;01mnltk\u001b[39;00m\u001b[38;5;21;01m.\u001b[39;00m\u001b[38;5;21;01mtokenize\u001b[39;00m \u001b[38;5;28;01mimport\u001b[39;00m word_tokenize\n\u001b[0;32m      2\u001b[0m \u001b[38;5;66;03m# NLTK's Word Tokenization\u001b[39;00m\n\u001b[1;32m----> 3\u001b[0m word_tokens \u001b[38;5;241m=\u001b[39m \u001b[43mword_tokenize\u001b[49m\u001b[43m(\u001b[49m\u001b[43msample_text\u001b[49m\u001b[38;5;241;43m.\u001b[39;49m\u001b[43mlower\u001b[49m\u001b[43m(\u001b[49m\u001b[43m)\u001b[49m\u001b[43m)\u001b[49m\n\u001b[0;32m      4\u001b[0m \u001b[38;5;28mprint\u001b[39m(\u001b[38;5;124m\"\u001b[39m\u001b[38;5;124mOriginal text: \u001b[39m\u001b[38;5;130;01m\\n\u001b[39;00m\u001b[38;5;124m\"\u001b[39m, sample_text, \u001b[38;5;124m'\u001b[39m\u001b[38;5;130;01m\\n\u001b[39;00m\u001b[38;5;130;01m\\n\u001b[39;00m\u001b[38;5;124m'\u001b[39m)\n\u001b[0;32m      5\u001b[0m \u001b[38;5;28mprint\u001b[39m(\u001b[38;5;124m'\u001b[39m\u001b[38;5;124mWord tokens: \u001b[39m\u001b[38;5;130;01m\\n\u001b[39;00m\u001b[38;5;124m'\u001b[39m, word_tokens)\n",
      "File \u001b[1;32m~\\anaconda3\\envs\\dojo-env\\lib\\site-packages\\nltk\\tokenize\\__init__.py:129\u001b[0m, in \u001b[0;36mword_tokenize\u001b[1;34m(text, language, preserve_line)\u001b[0m\n\u001b[0;32m    114\u001b[0m \u001b[38;5;28;01mdef\u001b[39;00m \u001b[38;5;21mword_tokenize\u001b[39m(text, language\u001b[38;5;241m=\u001b[39m\u001b[38;5;124m\"\u001b[39m\u001b[38;5;124menglish\u001b[39m\u001b[38;5;124m\"\u001b[39m, preserve_line\u001b[38;5;241m=\u001b[39m\u001b[38;5;28;01mFalse\u001b[39;00m):\n\u001b[0;32m    115\u001b[0m \u001b[38;5;250m    \u001b[39m\u001b[38;5;124;03m\"\"\"\u001b[39;00m\n\u001b[0;32m    116\u001b[0m \u001b[38;5;124;03m    Return a tokenized copy of *text*,\u001b[39;00m\n\u001b[0;32m    117\u001b[0m \u001b[38;5;124;03m    using NLTK's recommended word tokenizer\u001b[39;00m\n\u001b[1;32m   (...)\u001b[0m\n\u001b[0;32m    127\u001b[0m \u001b[38;5;124;03m    :type preserve_line: bool\u001b[39;00m\n\u001b[0;32m    128\u001b[0m \u001b[38;5;124;03m    \"\"\"\u001b[39;00m\n\u001b[1;32m--> 129\u001b[0m     sentences \u001b[38;5;241m=\u001b[39m [text] \u001b[38;5;28;01mif\u001b[39;00m preserve_line \u001b[38;5;28;01melse\u001b[39;00m \u001b[43msent_tokenize\u001b[49m\u001b[43m(\u001b[49m\u001b[43mtext\u001b[49m\u001b[43m,\u001b[49m\u001b[43m \u001b[49m\u001b[43mlanguage\u001b[49m\u001b[43m)\u001b[49m\n\u001b[0;32m    130\u001b[0m     \u001b[38;5;28;01mreturn\u001b[39;00m [\n\u001b[0;32m    131\u001b[0m         token \u001b[38;5;28;01mfor\u001b[39;00m sent \u001b[38;5;129;01min\u001b[39;00m sentences \u001b[38;5;28;01mfor\u001b[39;00m token \u001b[38;5;129;01min\u001b[39;00m _treebank_word_tokenizer\u001b[38;5;241m.\u001b[39mtokenize(sent)\n\u001b[0;32m    132\u001b[0m     ]\n",
      "File \u001b[1;32m~\\anaconda3\\envs\\dojo-env\\lib\\site-packages\\nltk\\tokenize\\__init__.py:106\u001b[0m, in \u001b[0;36msent_tokenize\u001b[1;34m(text, language)\u001b[0m\n\u001b[0;32m     96\u001b[0m \u001b[38;5;28;01mdef\u001b[39;00m \u001b[38;5;21msent_tokenize\u001b[39m(text, language\u001b[38;5;241m=\u001b[39m\u001b[38;5;124m\"\u001b[39m\u001b[38;5;124menglish\u001b[39m\u001b[38;5;124m\"\u001b[39m):\n\u001b[0;32m     97\u001b[0m \u001b[38;5;250m    \u001b[39m\u001b[38;5;124;03m\"\"\"\u001b[39;00m\n\u001b[0;32m     98\u001b[0m \u001b[38;5;124;03m    Return a sentence-tokenized copy of *text*,\u001b[39;00m\n\u001b[0;32m     99\u001b[0m \u001b[38;5;124;03m    using NLTK's recommended sentence tokenizer\u001b[39;00m\n\u001b[1;32m   (...)\u001b[0m\n\u001b[0;32m    104\u001b[0m \u001b[38;5;124;03m    :param language: the model name in the Punkt corpus\u001b[39;00m\n\u001b[0;32m    105\u001b[0m \u001b[38;5;124;03m    \"\"\"\u001b[39;00m\n\u001b[1;32m--> 106\u001b[0m     tokenizer \u001b[38;5;241m=\u001b[39m \u001b[43mload\u001b[49m\u001b[43m(\u001b[49m\u001b[38;5;124;43mf\u001b[39;49m\u001b[38;5;124;43m\"\u001b[39;49m\u001b[38;5;124;43mtokenizers/punkt/\u001b[39;49m\u001b[38;5;132;43;01m{\u001b[39;49;00m\u001b[43mlanguage\u001b[49m\u001b[38;5;132;43;01m}\u001b[39;49;00m\u001b[38;5;124;43m.pickle\u001b[39;49m\u001b[38;5;124;43m\"\u001b[39;49m\u001b[43m)\u001b[49m\n\u001b[0;32m    107\u001b[0m     \u001b[38;5;28;01mreturn\u001b[39;00m tokenizer\u001b[38;5;241m.\u001b[39mtokenize(text)\n",
      "File \u001b[1;32m~\\anaconda3\\envs\\dojo-env\\lib\\site-packages\\nltk\\data.py:750\u001b[0m, in \u001b[0;36mload\u001b[1;34m(resource_url, format, cache, verbose, logic_parser, fstruct_reader, encoding)\u001b[0m\n\u001b[0;32m    747\u001b[0m     \u001b[38;5;28mprint\u001b[39m(\u001b[38;5;124mf\u001b[39m\u001b[38;5;124m\"\u001b[39m\u001b[38;5;124m<<Loading \u001b[39m\u001b[38;5;132;01m{\u001b[39;00mresource_url\u001b[38;5;132;01m}\u001b[39;00m\u001b[38;5;124m>>\u001b[39m\u001b[38;5;124m\"\u001b[39m)\n\u001b[0;32m    749\u001b[0m \u001b[38;5;66;03m# Load the resource.\u001b[39;00m\n\u001b[1;32m--> 750\u001b[0m opened_resource \u001b[38;5;241m=\u001b[39m \u001b[43m_open\u001b[49m\u001b[43m(\u001b[49m\u001b[43mresource_url\u001b[49m\u001b[43m)\u001b[49m\n\u001b[0;32m    752\u001b[0m \u001b[38;5;28;01mif\u001b[39;00m \u001b[38;5;28mformat\u001b[39m \u001b[38;5;241m==\u001b[39m \u001b[38;5;124m\"\u001b[39m\u001b[38;5;124mraw\u001b[39m\u001b[38;5;124m\"\u001b[39m:\n\u001b[0;32m    753\u001b[0m     resource_val \u001b[38;5;241m=\u001b[39m opened_resource\u001b[38;5;241m.\u001b[39mread()\n",
      "File \u001b[1;32m~\\anaconda3\\envs\\dojo-env\\lib\\site-packages\\nltk\\data.py:876\u001b[0m, in \u001b[0;36m_open\u001b[1;34m(resource_url)\u001b[0m\n\u001b[0;32m    873\u001b[0m protocol, path_ \u001b[38;5;241m=\u001b[39m split_resource_url(resource_url)\n\u001b[0;32m    875\u001b[0m \u001b[38;5;28;01mif\u001b[39;00m protocol \u001b[38;5;129;01mis\u001b[39;00m \u001b[38;5;28;01mNone\u001b[39;00m \u001b[38;5;129;01mor\u001b[39;00m protocol\u001b[38;5;241m.\u001b[39mlower() \u001b[38;5;241m==\u001b[39m \u001b[38;5;124m\"\u001b[39m\u001b[38;5;124mnltk\u001b[39m\u001b[38;5;124m\"\u001b[39m:\n\u001b[1;32m--> 876\u001b[0m     \u001b[38;5;28;01mreturn\u001b[39;00m \u001b[43mfind\u001b[49m\u001b[43m(\u001b[49m\u001b[43mpath_\u001b[49m\u001b[43m,\u001b[49m\u001b[43m \u001b[49m\u001b[43mpath\u001b[49m\u001b[43m \u001b[49m\u001b[38;5;241;43m+\u001b[39;49m\u001b[43m \u001b[49m\u001b[43m[\u001b[49m\u001b[38;5;124;43m\"\u001b[39;49m\u001b[38;5;124;43m\"\u001b[39;49m\u001b[43m]\u001b[49m\u001b[43m)\u001b[49m\u001b[38;5;241m.\u001b[39mopen()\n\u001b[0;32m    877\u001b[0m \u001b[38;5;28;01melif\u001b[39;00m protocol\u001b[38;5;241m.\u001b[39mlower() \u001b[38;5;241m==\u001b[39m \u001b[38;5;124m\"\u001b[39m\u001b[38;5;124mfile\u001b[39m\u001b[38;5;124m\"\u001b[39m:\n\u001b[0;32m    878\u001b[0m     \u001b[38;5;66;03m# urllib might not use mode='rb', so handle this one ourselves:\u001b[39;00m\n\u001b[0;32m    879\u001b[0m     \u001b[38;5;28;01mreturn\u001b[39;00m find(path_, [\u001b[38;5;124m\"\u001b[39m\u001b[38;5;124m\"\u001b[39m])\u001b[38;5;241m.\u001b[39mopen()\n",
      "File \u001b[1;32m~\\anaconda3\\envs\\dojo-env\\lib\\site-packages\\nltk\\data.py:583\u001b[0m, in \u001b[0;36mfind\u001b[1;34m(resource_name, paths)\u001b[0m\n\u001b[0;32m    581\u001b[0m sep \u001b[38;5;241m=\u001b[39m \u001b[38;5;124m\"\u001b[39m\u001b[38;5;124m*\u001b[39m\u001b[38;5;124m\"\u001b[39m \u001b[38;5;241m*\u001b[39m \u001b[38;5;241m70\u001b[39m\n\u001b[0;32m    582\u001b[0m resource_not_found \u001b[38;5;241m=\u001b[39m \u001b[38;5;124mf\u001b[39m\u001b[38;5;124m\"\u001b[39m\u001b[38;5;130;01m\\n\u001b[39;00m\u001b[38;5;132;01m{\u001b[39;00msep\u001b[38;5;132;01m}\u001b[39;00m\u001b[38;5;130;01m\\n\u001b[39;00m\u001b[38;5;132;01m{\u001b[39;00mmsg\u001b[38;5;132;01m}\u001b[39;00m\u001b[38;5;130;01m\\n\u001b[39;00m\u001b[38;5;132;01m{\u001b[39;00msep\u001b[38;5;132;01m}\u001b[39;00m\u001b[38;5;130;01m\\n\u001b[39;00m\u001b[38;5;124m\"\u001b[39m\n\u001b[1;32m--> 583\u001b[0m \u001b[38;5;28;01mraise\u001b[39;00m \u001b[38;5;167;01mLookupError\u001b[39;00m(resource_not_found)\n",
      "\u001b[1;31mLookupError\u001b[0m: \n**********************************************************************\n  Resource \u001b[93mpunkt\u001b[0m not found.\n  Please use the NLTK Downloader to obtain the resource:\n\n  \u001b[31m>>> import nltk\n  >>> nltk.download('punkt')\n  \u001b[0m\n  For more information see: https://www.nltk.org/data.html\n\n  Attempted to load \u001b[93mtokenizers/punkt/english.pickle\u001b[0m\n\n  Searched in:\n    - 'C:\\\\Users\\\\Rovidicus/nltk_data'\n    - 'C:\\\\Users\\\\Rovidicus\\\\anaconda3\\\\envs\\\\dojo-env\\\\nltk_data'\n    - 'C:\\\\Users\\\\Rovidicus\\\\anaconda3\\\\envs\\\\dojo-env\\\\share\\\\nltk_data'\n    - 'C:\\\\Users\\\\Rovidicus\\\\anaconda3\\\\envs\\\\dojo-env\\\\lib\\\\nltk_data'\n    - 'C:\\\\Users\\\\Rovidicus\\\\AppData\\\\Roaming\\\\nltk_data'\n    - 'C:\\\\nltk_data'\n    - 'D:\\\\nltk_data'\n    - 'E:\\\\nltk_data'\n    - ''\n**********************************************************************\n"
     ]
    }
   ],
   "source": [
    "from nltk.tokenize import word_tokenize\n",
    "# NLTK's Word Tokenization\n",
    "word_tokens = word_tokenize(sample_text.lower())\n",
    "print(\"Original text: \\n\", sample_text, '\\n\\n')\n",
    "print('Word tokens: \\n', word_tokens)"
   ]
  },
  {
   "cell_type": "code",
   "execution_count": 6,
   "id": "db66ff49-836c-4af2-9e22-07ed53ab71c0",
   "metadata": {},
   "outputs": [
    {
     "name": "stdout",
     "output_type": "stream",
     "text": [
      "Original text: \n",
      " Hey there, Ninjas! I'm so excited to tell you about NLP. It's super-cool, isn't it? I've been #learning a lot. Follow @NLP for updates. E-mail me at fake_address@email.com \n",
      "\n",
      "\n",
      "Tweet Tokens: \n",
      " ['hey', 'there', ',', 'ninjas', '!', \"i'm\", 'so', 'excited', 'to', 'tell', 'you', 'about', 'nlp', '.', \"it's\", 'super-cool', ',', \"isn't\", 'it', '?', \"i've\", 'been', '#learning', 'a', 'lot', '.', 'follow', '@nlp', 'for', 'updates', '.', 'e-mail', 'me', 'at', 'fake_address@email.com'] \n",
      "\n"
     ]
    }
   ],
   "source": [
    "from nltk.tokenize import TweetTokenizer\n",
    "# NLTK's Tweet Tokenization\n",
    "tweet_tokenizer = TweetTokenizer()\n",
    "tweet_tokens = tweet_tokenizer.tokenize(sample_text.lower())\n",
    "print(\"Original text: \\n\", sample_text, '\\n\\n')\n",
    "print(f\"Tweet Tokens: \\n\", tweet_tokens,'\\n')"
   ]
  },
  {
   "cell_type": "code",
   "execution_count": 7,
   "id": "31f277b7-99a9-4993-a4e9-bae826752528",
   "metadata": {},
   "outputs": [
    {
     "data": {
      "text/plain": [
       "[('hey', 'there'),\n",
       " ('there', ','),\n",
       " (',', 'ninjas'),\n",
       " ('ninjas', '!'),\n",
       " ('!', \"i'm\"),\n",
       " (\"i'm\", 'so'),\n",
       " ('so', 'excited'),\n",
       " ('excited', 'to'),\n",
       " ('to', 'tell'),\n",
       " ('tell', 'you'),\n",
       " ('you', 'about'),\n",
       " ('about', 'nlp'),\n",
       " ('nlp', '.'),\n",
       " ('.', \"it's\"),\n",
       " (\"it's\", 'super-cool'),\n",
       " ('super-cool', ','),\n",
       " (',', \"isn't\"),\n",
       " (\"isn't\", 'it'),\n",
       " ('it', '?'),\n",
       " ('?', \"i've\"),\n",
       " (\"i've\", 'been'),\n",
       " ('been', '#learning'),\n",
       " ('#learning', 'a'),\n",
       " ('a', 'lot'),\n",
       " ('lot', '.'),\n",
       " ('.', 'follow'),\n",
       " ('follow', '@nlp'),\n",
       " ('@nlp', 'for'),\n",
       " ('for', 'updates'),\n",
       " ('updates', '.'),\n",
       " ('.', 'e-mail'),\n",
       " ('e-mail', 'me'),\n",
       " ('me', 'at'),\n",
       " ('at', 'fake_address@email.com')]"
      ]
     },
     "execution_count": 7,
     "metadata": {},
     "output_type": "execute_result"
    }
   ],
   "source": [
    "from nltk import ngrams\n",
    "# Define bigrams\n",
    "bigrams = ngrams(tweet_tokens, 2)\n",
    "# display bigrams\n",
    "list(bigrams)"
   ]
  },
  {
   "cell_type": "code",
   "execution_count": 8,
   "id": "6a19b9d5-cd2a-4641-82f2-2055415001cd",
   "metadata": {},
   "outputs": [
    {
     "data": {
      "text/plain": [
       "[('hey', 'there', ','),\n",
       " ('there', ',', 'ninjas'),\n",
       " (',', 'ninjas', '!'),\n",
       " ('ninjas', '!', \"i'm\"),\n",
       " ('!', \"i'm\", 'so'),\n",
       " (\"i'm\", 'so', 'excited'),\n",
       " ('so', 'excited', 'to'),\n",
       " ('excited', 'to', 'tell'),\n",
       " ('to', 'tell', 'you'),\n",
       " ('tell', 'you', 'about'),\n",
       " ('you', 'about', 'nlp'),\n",
       " ('about', 'nlp', '.'),\n",
       " ('nlp', '.', \"it's\"),\n",
       " ('.', \"it's\", 'super-cool'),\n",
       " (\"it's\", 'super-cool', ','),\n",
       " ('super-cool', ',', \"isn't\"),\n",
       " (',', \"isn't\", 'it'),\n",
       " (\"isn't\", 'it', '?'),\n",
       " ('it', '?', \"i've\"),\n",
       " ('?', \"i've\", 'been'),\n",
       " (\"i've\", 'been', '#learning'),\n",
       " ('been', '#learning', 'a'),\n",
       " ('#learning', 'a', 'lot'),\n",
       " ('a', 'lot', '.'),\n",
       " ('lot', '.', 'follow'),\n",
       " ('.', 'follow', '@nlp'),\n",
       " ('follow', '@nlp', 'for'),\n",
       " ('@nlp', 'for', 'updates'),\n",
       " ('for', 'updates', '.'),\n",
       " ('updates', '.', 'e-mail'),\n",
       " ('.', 'e-mail', 'me'),\n",
       " ('e-mail', 'me', 'at'),\n",
       " ('me', 'at', 'fake_address@email.com')]"
      ]
     },
     "execution_count": 8,
     "metadata": {},
     "output_type": "execute_result"
    }
   ],
   "source": [
    "# define trigrams\n",
    "trigrams = ngrams(tweet_tokens, 3)\n",
    "# display trigrams\n",
    "list(trigrams)"
   ]
  }
 ],
 "metadata": {
  "kernelspec": {
   "display_name": "Python 3 (ipykernel)",
   "language": "python",
   "name": "python3"
  },
  "language_info": {
   "codemirror_mode": {
    "name": "ipython",
    "version": 3
   },
   "file_extension": ".py",
   "mimetype": "text/x-python",
   "name": "python",
   "nbconvert_exporter": "python",
   "pygments_lexer": "ipython3",
   "version": "3.10.10"
  },
  "widgets": {
   "application/vnd.jupyter.widget-state+json": {
    "state": {},
    "version_major": 2,
    "version_minor": 0
   }
  }
 },
 "nbformat": 4,
 "nbformat_minor": 5
}
