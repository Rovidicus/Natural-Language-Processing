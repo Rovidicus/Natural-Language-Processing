{
 "cells": [
  {
   "cell_type": "code",
   "execution_count": 1,
   "id": "bff6035e-b672-4ce7-9b39-45373cca1a4c",
   "metadata": {},
   "outputs": [],
   "source": [
    "# pip install nltk"
   ]
  },
  {
   "cell_type": "code",
   "execution_count": 2,
   "id": "f895f8bb-27f0-4bf1-b824-55edaae6839f",
   "metadata": {},
   "outputs": [
    {
     "name": "stdout",
     "output_type": "stream",
     "text": [
      "Original Words:\n",
      " ['While', 'running', 'in', 'Central', 'Park,', 'I', 'noticed', 'that', 'the', 'constant', 'buzzing', 'of', 'flies', 'was', 'annoying.', 'However,', 'I', \"couldn't\", 'be', 'too', 'upset', 'as', 'they', 'were', 'likely', 'attracted', 'to', 'the', \"McDonald's\", 'food', 'that', 'someone', 'carelessly', 'dropped.', 'I', 'wondered,', \"'How\", 'can', 'they', 'be', 'so', \"uncaring?'\"] \n",
      "\n",
      "\n",
      "Stemmed Words:\n",
      " ['while', 'run', 'in', 'central', 'park,', 'i', 'notic', 'that', 'the', 'constant', 'buzz', 'of', 'fli', 'wa', 'annoying.', 'however,', 'i', \"couldn't\", 'be', 'too', 'upset', 'as', 'they', 'were', 'like', 'attract', 'to', 'the', \"mcdonald'\", 'food', 'that', 'someon', 'carelessli', 'dropped.', 'i', 'wondered,', \"'how\", 'can', 'they', 'be', 'so', \"uncaring?'\"] \n",
      "\n",
      "\n"
     ]
    }
   ],
   "source": [
    "from nltk.stem import PorterStemmer\n",
    "stemmer = PorterStemmer()\n",
    "# Example text\n",
    "sample_text = \"While running in Central Park, I noticed that the constant buzzing of flies was annoying. However, I couldn't be too upset as they were likely attracted to the McDonald's food that someone carelessly dropped. I wondered, 'How can they be so uncaring?'\"\n",
    "words =  sample_text.split(' ')\n",
    "print(\"Original Words:\\n\", words,'\\n\\n')\n",
    "# Applying stemming\n",
    "stemmed_words = [stemmer.stem(w.lower()) for w in words]\n",
    "print(\"Stemmed Words:\\n\", stemmed_words,'\\n\\n')"
   ]
  },
  {
   "cell_type": "code",
   "execution_count": 4,
   "id": "6e026193-783e-4f69-9833-f408a78efba6",
   "metadata": {},
   "outputs": [
    {
     "name": "stderr",
     "output_type": "stream",
     "text": [
      "[nltk_data] Downloading package wordnet to\n",
      "[nltk_data]     C:\\Users\\Rovidicus\\AppData\\Roaming\\nltk_data...\n"
     ]
    },
    {
     "data": {
      "text/plain": [
       "True"
      ]
     },
     "execution_count": 4,
     "metadata": {},
     "output_type": "execute_result"
    }
   ],
   "source": [
    "import nltk\n",
    "nltk.download('wordnet')"
   ]
  },
  {
   "cell_type": "code",
   "execution_count": 5,
   "id": "da23da1d-8980-421b-9ac8-b67933aeea53",
   "metadata": {},
   "outputs": [
    {
     "name": "stdout",
     "output_type": "stream",
     "text": [
      "Original Words:\n",
      " ['While', 'running', 'in', 'Central', 'Park,', 'I', 'noticed', 'that', 'the', 'constant', 'buzzing', 'of', 'flies', 'was', 'annoying.', 'However,', 'I', \"couldn't\", 'be', 'too', 'upset', 'as', 'they', 'were', 'likely', 'attracted', 'to', 'the', \"McDonald's\", 'food', 'that', 'someone', 'carelessly', 'dropped.', 'I', 'wondered,', \"'How\", 'can', 'they', 'be', 'so', \"uncaring?'\"] \n",
      "\n",
      "Lemmas:\n",
      " ['while', 'running', 'in', 'central', 'park,', 'i', 'noticed', 'that', 'the', 'constant', 'buzzing', 'of', 'fly', 'wa', 'annoying.', 'however,', 'i', \"couldn't\", 'be', 'too', 'upset', 'a', 'they', 'were', 'likely', 'attracted', 'to', 'the', \"mcdonald's\", 'food', 'that', 'someone', 'carelessly', 'dropped.', 'i', 'wondered,', \"'how\", 'can', 'they', 'be', 'so', \"uncaring?'\"]\n"
     ]
    }
   ],
   "source": [
    "from nltk.stem import WordNetLemmatizer\n",
    "lemmatizer = WordNetLemmatizer()\n",
    "print(\"Original Words:\\n\", words,'\\n')\n",
    "# Lemmatizing example text\n",
    "lemmas = [lemmatizer.lemmatize(w.lower()) for w in words]\n",
    "print(\"Lemmas:\\n\", lemmas)"
   ]
  },
  {
   "cell_type": "code",
   "execution_count": 6,
   "id": "a59d0f97-db13-4c69-8695-7c70366257ef",
   "metadata": {},
   "outputs": [
    {
     "name": "stdout",
     "output_type": "stream",
     "text": [
      "As a verb: run\n",
      "As a noun: running\n"
     ]
    }
   ],
   "source": [
    "# Lemmatizing 'running' as a verb\n",
    "print(\"As a verb:\", lemmatizer.lemmatize('running', pos='v'))\n",
    "# Lemmatizing 'running' as a noun\n",
    "print(\"As a noun:\", lemmatizer.lemmatize('running', pos='n'))"
   ]
  },
  {
   "cell_type": "code",
   "execution_count": 7,
   "id": "9e541952-b496-4acc-9fa4-56ab3e829abc",
   "metadata": {},
   "outputs": [
    {
     "name": "stdout",
     "output_type": "stream",
     "text": [
      "As default(noun): wa\n",
      "As verb: be\n"
     ]
    }
   ],
   "source": [
    "# Lemmatizing 'was' as default(noun)\n",
    "print(\"As default(noun):\", lemmatizer.lemmatize('was'))\n",
    "# Lemmatizing 'was' as a verb\n",
    "print(\"As verb:\", lemmatizer.lemmatize('was', pos='v'))"
   ]
  }
 ],
 "metadata": {
  "kernelspec": {
   "display_name": "Python 3 (ipykernel)",
   "language": "python",
   "name": "python3"
  },
  "language_info": {
   "codemirror_mode": {
    "name": "ipython",
    "version": 3
   },
   "file_extension": ".py",
   "mimetype": "text/x-python",
   "name": "python",
   "nbconvert_exporter": "python",
   "pygments_lexer": "ipython3",
   "version": "3.10.10"
  },
  "widgets": {
   "application/vnd.jupyter.widget-state+json": {
    "state": {},
    "version_major": 2,
    "version_minor": 0
   }
  }
 },
 "nbformat": 4,
 "nbformat_minor": 5
}
