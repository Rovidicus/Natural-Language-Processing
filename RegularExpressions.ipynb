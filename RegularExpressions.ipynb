{
 "cells": [
  {
   "cell_type": "code",
   "execution_count": 1,
   "id": "f93f6f3c-9688-4bc9-bdc0-78871d9ed710",
   "metadata": {},
   "outputs": [],
   "source": [
    "import re"
   ]
  },
  {
   "cell_type": "code",
   "execution_count": 2,
   "id": "fc956507-d03a-4224-99aa-5fc3b08c9b9c",
   "metadata": {},
   "outputs": [],
   "source": [
    "# Sample text\n",
    "text = \"Contact us at support@example.com and sales@example2.com for more info.\""
   ]
  },
  {
   "cell_type": "code",
   "execution_count": 3,
   "id": "394f921d-470f-43c4-a05f-8cf2d478f9ca",
   "metadata": {},
   "outputs": [
    {
     "name": "stdout",
     "output_type": "stream",
     "text": [
      "['us']\n"
     ]
    }
   ],
   "source": [
    "# Define the pattern\n",
    "pattern = 'us'\n",
    "# Use re.findall() to locate all instances of the pattern\n",
    "result =  re.findall(pattern, text)\n",
    "# Print the result\n",
    "print(result)"
   ]
  },
  {
   "cell_type": "code",
   "execution_count": 4,
   "id": "ed39e4ac-05dd-4fee-9ab0-1d2330813462",
   "metadata": {},
   "outputs": [
    {
     "name": "stdout",
     "output_type": "stream",
     "text": [
      "['o', 'a', 'u', 'a', 'u', 'o', 'e', 'a', 'e', 'o', 'a', 'a', 'e', 'e', 'a', 'e', 'o', 'o', 'o', 'e', 'i', 'o']\n"
     ]
    }
   ],
   "source": [
    "# Define the pattern\n",
    "pattern = r'[aeiou]'\n",
    "# Use re.findall() to locate all instances of the pattern\n",
    "result =  re.findall(pattern, text)\n",
    "# Print the result\n",
    "print(result)"
   ]
  },
  {
   "cell_type": "code",
   "execution_count": 5,
   "id": "cc8437f1-1ad6-4f85-97bc-c03cd5ea3931",
   "metadata": {},
   "outputs": [
    {
     "name": "stdout",
     "output_type": "stream",
     "text": [
      "['c', 'e', 'e', 'c', 'd', 'e', 'e', 'e', 'c', 'f', 'e', 'f']\n"
     ]
    }
   ],
   "source": [
    "# Define the pattern\n",
    "pattern = r'[c-f]'\n",
    "# Use re.findall() to locate all instances of the pattern\n",
    "result =  re.findall(pattern, text)\n",
    "# Print the result\n",
    "print(result)"
   ]
  },
  {
   "cell_type": "code",
   "execution_count": 6,
   "id": "5e4b85e6-fe84-4c5c-a831-e9f6342f11f5",
   "metadata": {},
   "outputs": [
    {
     "name": "stdout",
     "output_type": "stream",
     "text": [
      "['C', 'u', 'a', 's', 'e', 'c', 'a', 's', 'e', 'c', 'f', 'm', 'i']\n"
     ]
    }
   ],
   "source": [
    "# Define the pattern\n",
    "pattern = r'\\b[A-Za-z]'\n",
    "# Use re.findall() to locate all instances of the pattern\n",
    "result =  re.findall(pattern, text)\n",
    "# Print the result\n",
    "print(result)"
   ]
  },
  {
   "cell_type": "code",
   "execution_count": 7,
   "id": "a67e11ef-c530-4a68-8ac3-af114830ed44",
   "metadata": {},
   "outputs": [
    {
     "name": "stdout",
     "output_type": "stream",
     "text": [
      "['C', 'u', 'a', 's', 'e', '.', 'c', 'a', 's', 'e', '.', 'c', 'f', 'm', 'i', '.']\n"
     ]
    }
   ],
   "source": [
    "# Define the pattern\n",
    "pattern = r'\\b[A-Za-z._%+-]'\n",
    "# Use re.findall() to locate all instances of the pattern\n",
    "result =  re.findall(pattern, text)\n",
    "# Print the result\n",
    "print(result)"
   ]
  },
  {
   "cell_type": "code",
   "execution_count": 8,
   "id": "28c234ae-588a-48b5-9b8a-65c5b2fd022a",
   "metadata": {},
   "outputs": [
    {
     "name": "stdout",
     "output_type": "stream",
     "text": [
      "['Contact', 'us', 'at', 'support', 'example.com', 'and', 'sales', 'example', '.com', 'for', 'more', 'info.']\n"
     ]
    }
   ],
   "source": [
    "# Define the pattern\n",
    "pattern = r'\\b[A-Za-z._%+-]+'\n",
    "# Use re.findall() to locate all instances of the pattern\n",
    "result =  re.findall(pattern, text)\n",
    "# Print the result\n",
    "print(result)"
   ]
  },
  {
   "cell_type": "code",
   "execution_count": 9,
   "id": "ee5bc9b4-226d-48f1-9328-f38ee97f94a0",
   "metadata": {},
   "outputs": [
    {
     "name": "stdout",
     "output_type": "stream",
     "text": [
      "['support@', 'sales@']\n"
     ]
    }
   ],
   "source": [
    "# Define the pattern\n",
    "pattern = r'\\b[A-Za-z]+@'\n",
    "# Use re.findall() to locate all instances of the pattern\n",
    "result =  re.findall(pattern, text)\n",
    "# Print the result\n",
    "print(result)"
   ]
  },
  {
   "cell_type": "code",
   "execution_count": 10,
   "id": "7d58e59e-ba69-492d-a7aa-b6224ed2178b",
   "metadata": {},
   "outputs": [
    {
     "name": "stdout",
     "output_type": "stream",
     "text": [
      "['support@example.com', 'sales@example2.com']\n"
     ]
    }
   ],
   "source": [
    "# Define the pattern\n",
    "pattern = r'\\b[A-Za-z._%+-]+@[A-Za-z0-9.-]+'\n",
    "# Use re.findall() to locate all instances of the pattern\n",
    "result =  re.findall(pattern, text)\n",
    "# Print the result\n",
    "print(result)"
   ]
  },
  {
   "cell_type": "code",
   "execution_count": 11,
   "id": "d31f9b2b-8f83-445c-99ec-f65cd7be36b0",
   "metadata": {},
   "outputs": [
    {
     "name": "stdout",
     "output_type": "stream",
     "text": [
      "['support@example.com', 'sales@example2.com']\n"
     ]
    }
   ],
   "source": [
    "# Define the pattern\n",
    "pattern = r'\\b[A-Za-z._%+-]+@[A-Za-z0-9.-]+'\n",
    "# Use re.findall() to locate all instances of the pattern\n",
    "result =  re.findall(pattern, text)\n",
    "# Print the result\n",
    "print(result)"
   ]
  },
  {
   "cell_type": "code",
   "execution_count": 12,
   "id": "afebe232-77d5-4ac3-a432-f49351ed68c3",
   "metadata": {},
   "outputs": [
    {
     "name": "stdout",
     "output_type": "stream",
     "text": [
      "['support@example.', 'sales@example2.']\n"
     ]
    }
   ],
   "source": [
    "# Define the pattern\n",
    "pattern = r'\\b[A-Za-z._%+-]+@[A-Za-z0-9.-]+\\.'\n",
    "# Use re.findall() to locate all instances of the pattern\n",
    "result =  re.findall(pattern, text)\n",
    "# Print the result\n",
    "print(result)"
   ]
  },
  {
   "cell_type": "code",
   "execution_count": 13,
   "id": "c9c854fe-6646-4c8a-9ad9-cd18e1272306",
   "metadata": {},
   "outputs": [
    {
     "name": "stdout",
     "output_type": "stream",
     "text": [
      "['support@example.com', 'sales@example2.com']\n"
     ]
    }
   ],
   "source": [
    "# Define the pattern\n",
    "pattern = r'\\b[A-Za-z._%+-]+@[A-Za-z0-9.-]+\\.[A-Za-z]+'\n",
    "# Use re.findall() to locate all instances of the pattern\n",
    "result =  re.findall(pattern, text)\n",
    "# Print the result\n",
    "print(result)"
   ]
  },
  {
   "cell_type": "code",
   "execution_count": 14,
   "id": "12a634e3-5352-44f1-b8de-5976dd011508",
   "metadata": {},
   "outputs": [],
   "source": [
    "# Valid and invalid emails\n",
    "email_test = 'ninja@codingdojo.com, ninjacodingdojo.com, ninja@codingdojo, ninja@codingdojo.y'"
   ]
  },
  {
   "cell_type": "code",
   "execution_count": 15,
   "id": "bbfa5a08-b7b5-4550-bd44-4a7d75bb5ad5",
   "metadata": {},
   "outputs": [
    {
     "name": "stdout",
     "output_type": "stream",
     "text": [
      "['ninja@codingdojo.com', 'ninja@codingdojo.y']\n"
     ]
    }
   ],
   "source": [
    "# Define the pattern\n",
    "pattern = r'\\b[A-Za-z._%+-]+@[A-Za-z0-9.-]+\\.[A-Za-z]+'\n",
    "# Use re.findall() to locate all instances of the pattern\n",
    "result =  re.findall(pattern, email_test)\n",
    "# Print the result\n",
    "print(result)"
   ]
  },
  {
   "cell_type": "code",
   "execution_count": 16,
   "id": "ebbfaefb-8b71-42cd-bea0-4efe51e61ede",
   "metadata": {},
   "outputs": [
    {
     "name": "stdout",
     "output_type": "stream",
     "text": [
      "['ninja@codingdojo.com']\n"
     ]
    }
   ],
   "source": [
    "# Define the pattern\n",
    "pattern = r'\\b[A-Za-z._%+-]+@[A-Za-z0-9.-]+\\.[A-Za-z]{2,4}'\n",
    "# Use re.findall() to locate all instances of the pattern\n",
    "result =  re.findall(pattern, email_test)\n",
    "# Print the result\n",
    "print(result)"
   ]
  },
  {
   "cell_type": "code",
   "execution_count": null,
   "id": "b335f16c-7664-4041-bb15-969344652caa",
   "metadata": {},
   "outputs": [],
   "source": []
  }
 ],
 "metadata": {
  "kernelspec": {
   "display_name": "Python 3 (ipykernel)",
   "language": "python",
   "name": "python3"
  },
  "language_info": {
   "codemirror_mode": {
    "name": "ipython",
    "version": 3
   },
   "file_extension": ".py",
   "mimetype": "text/x-python",
   "name": "python",
   "nbconvert_exporter": "python",
   "pygments_lexer": "ipython3",
   "version": "3.10.10"
  },
  "widgets": {
   "application/vnd.jupyter.widget-state+json": {
    "state": {},
    "version_major": 2,
    "version_minor": 0
   }
  }
 },
 "nbformat": 4,
 "nbformat_minor": 5
}
